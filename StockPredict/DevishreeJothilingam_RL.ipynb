{
 "cells": [
  {
   "cell_type": "markdown",
   "id": "7547459b",
   "metadata": {},
   "source": [
    "Importing Libraries"
   ]
  },
  {
   "cell_type": "code",
   "execution_count": 1,
   "id": "cf0b65ab",
   "metadata": {},
   "outputs": [],
   "source": [
    "import os\n",
    "import pandas as pd\n",
    "import numpy as np\n",
    "import matplotlib.pyplot as plt\n",
    "%matplotlib inline\n"
   ]
  },
  {
   "cell_type": "code",
   "execution_count": 2,
   "id": "0db1b3ca",
   "metadata": {},
   "outputs": [],
   "source": [
    "#Loading the dataset\n",
    "#last 5 years data of APPLE Inc\n",
    "train_dst = pd.read_csv(\"StockPred\\AAPL.csv\")"
   ]
  },
  {
   "cell_type": "code",
   "execution_count": 3,
   "id": "741692d9",
   "metadata": {},
   "outputs": [
    {
     "data": {
      "text/html": [
       "<div>\n",
       "<style scoped>\n",
       "    .dataframe tbody tr th:only-of-type {\n",
       "        vertical-align: middle;\n",
       "    }\n",
       "\n",
       "    .dataframe tbody tr th {\n",
       "        vertical-align: top;\n",
       "    }\n",
       "\n",
       "    .dataframe thead th {\n",
       "        text-align: right;\n",
       "    }\n",
       "</style>\n",
       "<table border=\"1\" class=\"dataframe\">\n",
       "  <thead>\n",
       "    <tr style=\"text-align: right;\">\n",
       "      <th></th>\n",
       "      <th>Date</th>\n",
       "      <th>Open</th>\n",
       "      <th>High</th>\n",
       "      <th>Low</th>\n",
       "      <th>Close</th>\n",
       "      <th>Adj Close</th>\n",
       "      <th>Volume</th>\n",
       "    </tr>\n",
       "  </thead>\n",
       "  <tbody>\n",
       "    <tr>\n",
       "      <th>0</th>\n",
       "      <td>2017-02-09</td>\n",
       "      <td>32.912498</td>\n",
       "      <td>33.112499</td>\n",
       "      <td>32.779999</td>\n",
       "      <td>33.105000</td>\n",
       "      <td>31.115643</td>\n",
       "      <td>113399600</td>\n",
       "    </tr>\n",
       "    <tr>\n",
       "      <th>1</th>\n",
       "      <td>2017-02-10</td>\n",
       "      <td>33.115002</td>\n",
       "      <td>33.235001</td>\n",
       "      <td>33.012501</td>\n",
       "      <td>33.029999</td>\n",
       "      <td>31.045147</td>\n",
       "      <td>80262000</td>\n",
       "    </tr>\n",
       "    <tr>\n",
       "      <th>2</th>\n",
       "      <td>2017-02-13</td>\n",
       "      <td>33.270000</td>\n",
       "      <td>33.455002</td>\n",
       "      <td>33.187500</td>\n",
       "      <td>33.322498</td>\n",
       "      <td>31.320076</td>\n",
       "      <td>92141600</td>\n",
       "    </tr>\n",
       "    <tr>\n",
       "      <th>3</th>\n",
       "      <td>2017-02-14</td>\n",
       "      <td>33.367500</td>\n",
       "      <td>33.772499</td>\n",
       "      <td>33.312500</td>\n",
       "      <td>33.755001</td>\n",
       "      <td>31.726597</td>\n",
       "      <td>132904800</td>\n",
       "    </tr>\n",
       "    <tr>\n",
       "      <th>4</th>\n",
       "      <td>2017-02-15</td>\n",
       "      <td>33.880001</td>\n",
       "      <td>34.067501</td>\n",
       "      <td>33.654999</td>\n",
       "      <td>33.877499</td>\n",
       "      <td>31.841732</td>\n",
       "      <td>142492400</td>\n",
       "    </tr>\n",
       "  </tbody>\n",
       "</table>\n",
       "</div>"
      ],
      "text/plain": [
       "         Date       Open       High        Low      Close  Adj Close  \\\n",
       "0  2017-02-09  32.912498  33.112499  32.779999  33.105000  31.115643   \n",
       "1  2017-02-10  33.115002  33.235001  33.012501  33.029999  31.045147   \n",
       "2  2017-02-13  33.270000  33.455002  33.187500  33.322498  31.320076   \n",
       "3  2017-02-14  33.367500  33.772499  33.312500  33.755001  31.726597   \n",
       "4  2017-02-15  33.880001  34.067501  33.654999  33.877499  31.841732   \n",
       "\n",
       "      Volume  \n",
       "0  113399600  \n",
       "1   80262000  \n",
       "2   92141600  \n",
       "3  132904800  \n",
       "4  142492400  "
      ]
     },
     "execution_count": 3,
     "metadata": {},
     "output_type": "execute_result"
    }
   ],
   "source": [
    "train_dst.head()"
   ]
  },
  {
   "cell_type": "code",
   "execution_count": 4,
   "id": "72a12848",
   "metadata": {},
   "outputs": [
    {
     "data": {
      "text/plain": [
       "(1259, 7)"
      ]
     },
     "execution_count": 4,
     "metadata": {},
     "output_type": "execute_result"
    }
   ],
   "source": [
    "train_dst.shape"
   ]
  },
  {
   "cell_type": "code",
   "execution_count": 5,
   "id": "8cda46da",
   "metadata": {},
   "outputs": [
    {
     "data": {
      "text/plain": [
       "8813"
      ]
     },
     "execution_count": 5,
     "metadata": {},
     "output_type": "execute_result"
    }
   ],
   "source": [
    "train_dst.size"
   ]
  },
  {
   "cell_type": "code",
   "execution_count": 6,
   "id": "6b2657ad",
   "metadata": {},
   "outputs": [
    {
     "data": {
      "text/html": [
       "<div>\n",
       "<style scoped>\n",
       "    .dataframe tbody tr th:only-of-type {\n",
       "        vertical-align: middle;\n",
       "    }\n",
       "\n",
       "    .dataframe tbody tr th {\n",
       "        vertical-align: top;\n",
       "    }\n",
       "\n",
       "    .dataframe thead th {\n",
       "        text-align: right;\n",
       "    }\n",
       "</style>\n",
       "<table border=\"1\" class=\"dataframe\">\n",
       "  <thead>\n",
       "    <tr style=\"text-align: right;\">\n",
       "      <th></th>\n",
       "      <th>Open</th>\n",
       "      <th>High</th>\n",
       "      <th>Low</th>\n",
       "      <th>Close</th>\n",
       "      <th>Adj Close</th>\n",
       "      <th>Volume</th>\n",
       "    </tr>\n",
       "  </thead>\n",
       "  <tbody>\n",
       "    <tr>\n",
       "      <th>count</th>\n",
       "      <td>1259.000000</td>\n",
       "      <td>1259.000000</td>\n",
       "      <td>1259.000000</td>\n",
       "      <td>1259.000000</td>\n",
       "      <td>1259.000000</td>\n",
       "      <td>1.259000e+03</td>\n",
       "    </tr>\n",
       "    <tr>\n",
       "      <th>mean</th>\n",
       "      <td>77.567363</td>\n",
       "      <td>78.424170</td>\n",
       "      <td>76.747369</td>\n",
       "      <td>77.624299</td>\n",
       "      <td>76.040193</td>\n",
       "      <td>1.204514e+08</td>\n",
       "    </tr>\n",
       "    <tr>\n",
       "      <th>std</th>\n",
       "      <td>42.363162</td>\n",
       "      <td>42.884776</td>\n",
       "      <td>41.841444</td>\n",
       "      <td>42.382807</td>\n",
       "      <td>42.647120</td>\n",
       "      <td>5.546392e+07</td>\n",
       "    </tr>\n",
       "    <tr>\n",
       "      <th>min</th>\n",
       "      <td>32.912498</td>\n",
       "      <td>33.112499</td>\n",
       "      <td>32.779999</td>\n",
       "      <td>33.029999</td>\n",
       "      <td>31.045147</td>\n",
       "      <td>4.100000e+07</td>\n",
       "    </tr>\n",
       "    <tr>\n",
       "      <th>25%</th>\n",
       "      <td>43.418749</td>\n",
       "      <td>43.750000</td>\n",
       "      <td>43.100001</td>\n",
       "      <td>43.528750</td>\n",
       "      <td>41.472645</td>\n",
       "      <td>8.352340e+07</td>\n",
       "    </tr>\n",
       "    <tr>\n",
       "      <th>50%</th>\n",
       "      <td>55.037498</td>\n",
       "      <td>55.639999</td>\n",
       "      <td>54.322498</td>\n",
       "      <td>55.105000</td>\n",
       "      <td>53.407444</td>\n",
       "      <td>1.055755e+08</td>\n",
       "    </tr>\n",
       "    <tr>\n",
       "      <th>75%</th>\n",
       "      <td>119.760002</td>\n",
       "      <td>121.084999</td>\n",
       "      <td>118.150002</td>\n",
       "      <td>119.695000</td>\n",
       "      <td>118.363705</td>\n",
       "      <td>1.408685e+08</td>\n",
       "    </tr>\n",
       "    <tr>\n",
       "      <th>max</th>\n",
       "      <td>182.630005</td>\n",
       "      <td>182.940002</td>\n",
       "      <td>179.119995</td>\n",
       "      <td>182.009995</td>\n",
       "      <td>180.959732</td>\n",
       "      <td>4.265100e+08</td>\n",
       "    </tr>\n",
       "  </tbody>\n",
       "</table>\n",
       "</div>"
      ],
      "text/plain": [
       "              Open         High          Low        Close    Adj Close  \\\n",
       "count  1259.000000  1259.000000  1259.000000  1259.000000  1259.000000   \n",
       "mean     77.567363    78.424170    76.747369    77.624299    76.040193   \n",
       "std      42.363162    42.884776    41.841444    42.382807    42.647120   \n",
       "min      32.912498    33.112499    32.779999    33.029999    31.045147   \n",
       "25%      43.418749    43.750000    43.100001    43.528750    41.472645   \n",
       "50%      55.037498    55.639999    54.322498    55.105000    53.407444   \n",
       "75%     119.760002   121.084999   118.150002   119.695000   118.363705   \n",
       "max     182.630005   182.940002   179.119995   182.009995   180.959732   \n",
       "\n",
       "             Volume  \n",
       "count  1.259000e+03  \n",
       "mean   1.204514e+08  \n",
       "std    5.546392e+07  \n",
       "min    4.100000e+07  \n",
       "25%    8.352340e+07  \n",
       "50%    1.055755e+08  \n",
       "75%    1.408685e+08  \n",
       "max    4.265100e+08  "
      ]
     },
     "execution_count": 6,
     "metadata": {},
     "output_type": "execute_result"
    }
   ],
   "source": [
    "train_dst.describe()"
   ]
  },
  {
   "cell_type": "code",
   "execution_count": 7,
   "id": "98556429",
   "metadata": {},
   "outputs": [
    {
     "name": "stdout",
     "output_type": "stream",
     "text": [
      "<class 'pandas.core.frame.DataFrame'>\n",
      "RangeIndex: 1259 entries, 0 to 1258\n",
      "Data columns (total 7 columns):\n",
      " #   Column     Non-Null Count  Dtype  \n",
      "---  ------     --------------  -----  \n",
      " 0   Date       1259 non-null   object \n",
      " 1   Open       1259 non-null   float64\n",
      " 2   High       1259 non-null   float64\n",
      " 3   Low        1259 non-null   float64\n",
      " 4   Close      1259 non-null   float64\n",
      " 5   Adj Close  1259 non-null   float64\n",
      " 6   Volume     1259 non-null   int64  \n",
      "dtypes: float64(5), int64(1), object(1)\n",
      "memory usage: 69.0+ KB\n"
     ]
    }
   ],
   "source": [
    "train_dst.info()"
   ]
  },
  {
   "cell_type": "code",
   "execution_count": 8,
   "id": "0a99697b",
   "metadata": {},
   "outputs": [
    {
     "data": {
      "text/plain": [
       "Date         0\n",
       "Open         0\n",
       "High         0\n",
       "Low          0\n",
       "Close        0\n",
       "Adj Close    0\n",
       "Volume       0\n",
       "dtype: int64"
      ]
     },
     "execution_count": 8,
     "metadata": {},
     "output_type": "execute_result"
    }
   ],
   "source": [
    "train_dst.isnull().sum()"
   ]
  },
  {
   "cell_type": "code",
   "execution_count": 9,
   "id": "51bdd72d",
   "metadata": {},
   "outputs": [
    {
     "name": "stdout",
     "output_type": "stream",
     "text": [
      "[[ 32.912498]\n",
      " [ 33.115002]\n",
      " [ 33.27    ]\n",
      " ...\n",
      " [171.679993]\n",
      " [172.860001]\n",
      " [171.729996]]\n",
      "(1259, 1)\n"
     ]
    }
   ],
   "source": [
    "train_set = train_dst.iloc[:,1:2].values\n",
    "print(train_set)\n",
    "print(train_set.shape)"
   ]
  },
  {
   "cell_type": "code",
   "execution_count": 10,
   "id": "3e1e5caf",
   "metadata": {},
   "outputs": [
    {
     "data": {
      "text/plain": [
       "array([[0.        ],\n",
       "       [0.00135257],\n",
       "       [0.00238784],\n",
       "       ...,\n",
       "       [0.92686218],\n",
       "       [0.93474374],\n",
       "       [0.92719616]])"
      ]
     },
     "execution_count": 10,
     "metadata": {},
     "output_type": "execute_result"
    }
   ],
   "source": [
    "import warnings\n",
    "warnings.filterwarnings('ignore')\n",
    "\n",
    "from sklearn.preprocessing import MinMaxScaler\n",
    "\n",
    "t_scaler = MinMaxScaler(feature_range = (0,1)) \n",
    "scaler_train_set = t_scaler.fit_transform(train_set)\n",
    "scaler_train_set\n"
   ]
  },
  {
   "cell_type": "code",
   "execution_count": 11,
   "id": "7ba0bf52",
   "metadata": {},
   "outputs": [
    {
     "name": "stdout",
     "output_type": "stream",
     "text": [
      "(1199, 60)\n",
      "(1199,)\n"
     ]
    }
   ],
   "source": [
    "#X and y train\n",
    "X_train = []\n",
    "Y_train = []\n",
    "for i in range(60,1259):\n",
    "    X_train.append(scaler_train_set[i-60:i, 0])\n",
    "    Y_train.append(scaler_train_set[i, 0])\n",
    "X_train = np.array(X_train)\n",
    "Y_train = np.array(Y_train)\n",
    "\n",
    "print(X_train.shape)\n",
    "print(Y_train.shape)"
   ]
  },
  {
   "cell_type": "code",
   "execution_count": 12,
   "id": "4d51329e",
   "metadata": {},
   "outputs": [
    {
     "name": "stdout",
     "output_type": "stream",
     "text": [
      "(1199, 60, 1)\n"
     ]
    }
   ],
   "source": [
    "X_train = np.reshape(X_train,(X_train.shape[0], X_train.shape[1], 1))\n",
    "print(X_train.shape)"
   ]
  },
  {
   "cell_type": "code",
   "execution_count": 13,
   "id": "f004888b",
   "metadata": {},
   "outputs": [],
   "source": [
    "#LSTM model\n",
    "\n",
    "from keras.models import Sequential\n",
    "from keras.layers import LSTM\n",
    "from keras.layers import Dense\n",
    "from keras.layers import Dropout"
   ]
  },
  {
   "cell_type": "code",
   "execution_count": 14,
   "id": "c6c6e955",
   "metadata": {},
   "outputs": [],
   "source": [
    "reg = Sequential()\n",
    "reg.add(LSTM(units=50, return_sequences = True, input_shape = (X_train.shape[1], 1)))\n",
    "reg.add(Dropout(0.2))\n",
    "\n",
    "reg.add(LSTM(units=50, return_sequences = True))\n",
    "reg.add(Dropout(0.2))\n",
    "\n",
    "reg.add(LSTM(units=50, return_sequences = True))\n",
    "reg.add(Dropout(0.2))\n",
    "\n",
    "reg.add(LSTM(units=50))\n",
    "reg.add(Dropout(0.2))\n",
    "\n",
    "reg.add(Dense(units=1))"
   ]
  },
  {
   "cell_type": "code",
   "execution_count": 15,
   "id": "931a6cc4",
   "metadata": {},
   "outputs": [
    {
     "name": "stdout",
     "output_type": "stream",
     "text": [
      "Epoch 1/100\n",
      "38/38 [==============================] - 16s 163ms/step - loss: 0.0212\n",
      "Epoch 2/100\n",
      "38/38 [==============================] - 4s 96ms/step - loss: 0.0038\n",
      "Epoch 3/100\n",
      "38/38 [==============================] - 6s 166ms/step - loss: 0.0032\n",
      "Epoch 4/100\n",
      "38/38 [==============================] - 6s 169ms/step - loss: 0.0030\n",
      "Epoch 5/100\n",
      "38/38 [==============================] - 4s 105ms/step - loss: 0.0029\n",
      "Epoch 6/100\n",
      "38/38 [==============================] - 6s 166ms/step - loss: 0.0034\n",
      "Epoch 7/100\n",
      "38/38 [==============================] - 6s 155ms/step - loss: 0.0034\n",
      "Epoch 8/100\n",
      "38/38 [==============================] - 4s 111ms/step - loss: 0.0027\n",
      "Epoch 9/100\n",
      "38/38 [==============================] - 6s 167ms/step - loss: 0.0028\n",
      "Epoch 10/100\n",
      "38/38 [==============================] - 6s 146ms/step - loss: 0.0024\n",
      "Epoch 11/100\n",
      "38/38 [==============================] - 4s 112ms/step - loss: 0.0026\n",
      "Epoch 12/100\n",
      "38/38 [==============================] - 6s 164ms/step - loss: 0.0022\n",
      "Epoch 13/100\n",
      "38/38 [==============================] - 6s 149ms/step - loss: 0.0022\n",
      "Epoch 14/100\n",
      "38/38 [==============================] - 4s 111ms/step - loss: 0.0033\n",
      "Epoch 15/100\n",
      "38/38 [==============================] - 6s 164ms/step - loss: 0.0028\n",
      "Epoch 16/100\n",
      "38/38 [==============================] - 6s 148ms/step - loss: 0.0022\n",
      "Epoch 17/100\n",
      "38/38 [==============================] - 4s 110ms/step - loss: 0.0023\n",
      "Epoch 18/100\n",
      "38/38 [==============================] - 6s 159ms/step - loss: 0.0020\n",
      "Epoch 19/100\n",
      "38/38 [==============================] - 6s 152ms/step - loss: 0.0021\n",
      "Epoch 20/100\n",
      "38/38 [==============================] - 4s 110ms/step - loss: 0.0020\n",
      "Epoch 21/100\n",
      "38/38 [==============================] - 6s 164ms/step - loss: 0.0022\n",
      "Epoch 22/100\n",
      "38/38 [==============================] - 6s 149ms/step - loss: 0.0021\n",
      "Epoch 23/100\n",
      "38/38 [==============================] - 4s 106ms/step - loss: 0.0023\n",
      "Epoch 24/100\n",
      "38/38 [==============================] - 6s 160ms/step - loss: 0.0020\n",
      "Epoch 25/100\n",
      "38/38 [==============================] - 6s 152ms/step - loss: 0.0018\n",
      "Epoch 26/100\n",
      "38/38 [==============================] - 4s 101ms/step - loss: 0.0018\n",
      "Epoch 27/100\n",
      "38/38 [==============================] - 6s 160ms/step - loss: 0.0018\n",
      "Epoch 28/100\n",
      "38/38 [==============================] - 6s 156ms/step - loss: 0.0025\n",
      "Epoch 29/100\n",
      "38/38 [==============================] - 3s 90ms/step - loss: 0.0019\n",
      "Epoch 30/100\n",
      "38/38 [==============================] - 6s 157ms/step - loss: 0.0018\n",
      "Epoch 31/100\n",
      "38/38 [==============================] - 6s 158ms/step - loss: 0.0015\n",
      "Epoch 32/100\n",
      "38/38 [==============================] - 4s 94ms/step - loss: 0.0018\n",
      "Epoch 33/100\n",
      "38/38 [==============================] - 6s 154ms/step - loss: 0.0019\n",
      "Epoch 34/100\n",
      "38/38 [==============================] - 6s 157ms/step - loss: 0.0023\n",
      "Epoch 35/100\n",
      "38/38 [==============================] - 4s 100ms/step - loss: 0.0017\n",
      "Epoch 36/100\n",
      "38/38 [==============================] - 6s 151ms/step - loss: 0.0017\n",
      "Epoch 37/100\n",
      "38/38 [==============================] - 6s 148ms/step - loss: 0.0017\n",
      "Epoch 38/100\n",
      "38/38 [==============================] - 4s 108ms/step - loss: 0.0015\n",
      "Epoch 39/100\n",
      "38/38 [==============================] - 5s 131ms/step - loss: 0.0015\n",
      "Epoch 40/100\n",
      "38/38 [==============================] - 6s 147ms/step - loss: 0.0015\n",
      "Epoch 41/100\n",
      "38/38 [==============================] - 5s 120ms/step - loss: 0.0017\n",
      "Epoch 42/100\n",
      "38/38 [==============================] - 4s 103ms/step - loss: 0.0016\n",
      "Epoch 43/100\n",
      "38/38 [==============================] - 6s 153ms/step - loss: 0.0015\n",
      "Epoch 44/100\n",
      "38/38 [==============================] - 6s 146ms/step - loss: 0.0015\n",
      "Epoch 45/100\n",
      "38/38 [==============================] - 4s 96ms/step - loss: 0.0015\n",
      "Epoch 46/100\n",
      "38/38 [==============================] - 5s 146ms/step - loss: 0.0016\n",
      "Epoch 47/100\n",
      "38/38 [==============================] - 4s 112ms/step - loss: 0.0018\n",
      "Epoch 48/100\n",
      "38/38 [==============================] - 4s 98ms/step - loss: 0.0016\n",
      "Epoch 49/100\n",
      "38/38 [==============================] - 5s 119ms/step - loss: 0.0013\n",
      "Epoch 50/100\n",
      "38/38 [==============================] - 6s 146ms/step - loss: 0.0014\n",
      "Epoch 51/100\n",
      "38/38 [==============================] - 5s 123ms/step - loss: 0.0017\n",
      "Epoch 52/100\n",
      "38/38 [==============================] - 4s 96ms/step - loss: 0.0013\n",
      "Epoch 53/100\n",
      "38/38 [==============================] - 5s 143ms/step - loss: 0.0012\n",
      "Epoch 54/100\n",
      "38/38 [==============================] - 5s 144ms/step - loss: 0.0015\n",
      "Epoch 55/100\n",
      "38/38 [==============================] - 4s 101ms/step - loss: 0.0013\n",
      "Epoch 56/100\n",
      "38/38 [==============================] - 5s 137ms/step - loss: 0.0015\n",
      "Epoch 57/100\n",
      "38/38 [==============================] - 5s 139ms/step - loss: 0.0014\n",
      "Epoch 58/100\n",
      "38/38 [==============================] - 4s 113ms/step - loss: 0.0013\n",
      "Epoch 59/100\n",
      "38/38 [==============================] - 4s 114ms/step - loss: 0.0015\n",
      "Epoch 60/100\n",
      "38/38 [==============================] - 5s 142ms/step - loss: 0.0015\n",
      "Epoch 61/100\n",
      "38/38 [==============================] - 5s 136ms/step - loss: 0.0013\n",
      "Epoch 62/100\n",
      "38/38 [==============================] - 4s 94ms/step - loss: 0.0015\n",
      "Epoch 63/100\n",
      "38/38 [==============================] - 5s 139ms/step - loss: 0.0014\n",
      "Epoch 64/100\n",
      "38/38 [==============================] - 5s 138ms/step - loss: 0.0013\n",
      "Epoch 65/100\n",
      "38/38 [==============================] - 4s 104ms/step - loss: 0.0013\n",
      "Epoch 66/100\n",
      "38/38 [==============================] - 5s 124ms/step - loss: 0.0013\n",
      "Epoch 67/100\n",
      "38/38 [==============================] - 5s 133ms/step - loss: 0.0014\n",
      "Epoch 68/100\n",
      "38/38 [==============================] - 5s 127ms/step - loss: 0.0012\n",
      "Epoch 69/100\n",
      "38/38 [==============================] - 4s 101ms/step - loss: 0.0012\n",
      "Epoch 70/100\n",
      "38/38 [==============================] - 5s 131ms/step - loss: 0.0012\n",
      "Epoch 71/100\n",
      "38/38 [==============================] - 5s 136ms/step - loss: 0.0012\n",
      "Epoch 72/100\n",
      "38/38 [==============================] - 4s 102ms/step - loss: 0.0013\n",
      "Epoch 73/100\n",
      "38/38 [==============================] - 5s 123ms/step - loss: 0.0019\n",
      "Epoch 74/100\n",
      "38/38 [==============================] - 5s 129ms/step - loss: 0.0014\n",
      "Epoch 75/100\n",
      "38/38 [==============================] - 5s 124ms/step - loss: 0.0014\n",
      "Epoch 76/100\n",
      "38/38 [==============================] - 4s 104ms/step - loss: 0.0012\n",
      "Epoch 77/100\n",
      "38/38 [==============================] - 5s 136ms/step - loss: 0.0014\n",
      "Epoch 78/100\n",
      "38/38 [==============================] - 5s 134ms/step - loss: 0.0012\n",
      "Epoch 79/100\n",
      "38/38 [==============================] - 4s 97ms/step - loss: 0.0013\n",
      "Epoch 80/100\n",
      "38/38 [==============================] - 5s 121ms/step - loss: 0.0012\n",
      "Epoch 81/100\n",
      "38/38 [==============================] - 5s 132ms/step - loss: 0.0015\n",
      "Epoch 82/100\n",
      "38/38 [==============================] - 5s 122ms/step - loss: 0.0011\n",
      "Epoch 83/100\n",
      "38/38 [==============================] - 4s 104ms/step - loss: 0.0014\n",
      "Epoch 84/100\n",
      "38/38 [==============================] - 5s 131ms/step - loss: 0.0013\n",
      "Epoch 85/100\n",
      "38/38 [==============================] - 5s 132ms/step - loss: 0.0011\n",
      "Epoch 86/100\n",
      "38/38 [==============================] - 4s 101ms/step - loss: 0.0012\n",
      "Epoch 87/100\n",
      "38/38 [==============================] - 5s 125ms/step - loss: 0.0011\n",
      "Epoch 88/100\n",
      "38/38 [==============================] - 5s 129ms/step - loss: 0.0011\n",
      "Epoch 89/100\n",
      "38/38 [==============================] - 5s 120ms/step - loss: 0.0010\n",
      "Epoch 90/100\n",
      "38/38 [==============================] - 4s 102ms/step - loss: 0.0011\n",
      "Epoch 91/100\n",
      "38/38 [==============================] - 5s 127ms/step - loss: 0.0012\n",
      "Epoch 92/100\n",
      "38/38 [==============================] - 5s 126ms/step - loss: 0.0012\n",
      "Epoch 93/100\n",
      "38/38 [==============================] - 4s 105ms/step - loss: 0.0011\n",
      "Epoch 94/100\n",
      "38/38 [==============================] - 5s 120ms/step - loss: 0.0011\n",
      "Epoch 95/100\n",
      "38/38 [==============================] - 5s 126ms/step - loss: 0.0011\n",
      "Epoch 96/100\n",
      "38/38 [==============================] - 5s 124ms/step - loss: 0.0012\n",
      "Epoch 97/100\n",
      "38/38 [==============================] - 4s 93ms/step - loss: 0.0011\n",
      "Epoch 98/100\n",
      "38/38 [==============================] - 5s 126ms/step - loss: 0.0012\n",
      "Epoch 99/100\n",
      "38/38 [==============================] - 6s 165ms/step - loss: 0.0011\n",
      "Epoch 100/100\n",
      "38/38 [==============================] - 4s 101ms/step - loss: 9.8812e-04\n"
     ]
    },
    {
     "data": {
      "text/plain": [
       "<keras.callbacks.History at 0x1f492e99460>"
      ]
     },
     "execution_count": 15,
     "metadata": {},
     "output_type": "execute_result"
    }
   ],
   "source": [
    "reg.compile(optimizer = 'adam', loss = 'mean_squared_error')\n",
    "reg.fit(X_train, Y_train, epochs=100, batch_size=32)"
   ]
  },
  {
   "cell_type": "code",
   "execution_count": 16,
   "id": "2bfc3c9f",
   "metadata": {},
   "outputs": [
    {
     "name": "stdout",
     "output_type": "stream",
     "text": [
      "(252, 7)\n",
      "(240, 60)\n"
     ]
    }
   ],
   "source": [
    "test_dst = pd.read_csv(\"StockPred\\AAPL_latest.csv\")\n",
    "actual_stock = test_dst.iloc[:,1:2].values\n",
    "print(test_dst.shape)\n",
    "#print(actual_stock)\n",
    "\n",
    "total_dst = pd.concat((train_dst['Open'], test_dst['Open']), axis = 0)\n",
    "inputs = total_dst[len(total_dst)-len(test_dst)-60:].values\n",
    "\n",
    "inputs = inputs.reshape(-1,1)\n",
    "inputs = t_scaler.transform(inputs)\n",
    "\n",
    "X_test = []\n",
    "for i in range(60,300):\n",
    "    X_test.append(inputs[i-60:i, 0])\n",
    "X_test = np.array(X_test)\n",
    "\n",
    "print(X_test.shape)\n",
    "X_test = np.reshape(X_test,(X_test.shape[0], X_test.shape[1], 1)) "
   ]
  },
  {
   "cell_type": "code",
   "execution_count": 17,
   "id": "95ed0c6c",
   "metadata": {},
   "outputs": [
    {
     "name": "stdout",
     "output_type": "stream",
     "text": [
      "8/8 [==============================] - 2s 39ms/step\n"
     ]
    }
   ],
   "source": [
    "predict_stock = reg.predict(X_test)\n",
    "predict_stock = t_scaler.inverse_transform(predict_stock)"
   ]
  },
  {
   "cell_type": "code",
   "execution_count": 18,
   "id": "7e80ff71",
   "metadata": {},
   "outputs": [
    {
     "data": {
      "text/plain": [
       "<matplotlib.legend.Legend at 0x1f492ec9280>"
      ]
     },
     "execution_count": 18,
     "metadata": {},
     "output_type": "execute_result"
    },
    {
     "data": {
      "image/png": "[encoded data removed]",
      "text/plain": [
       "<Figure size 640x480 with 1 Axes>"
      ]
     },
     "metadata": {},
     "output_type": "display_data"
    }
   ],
   "source": [
    "plt.plot(actual_stock, color = 'blue', label = 'Actual Apple Stock Price')\n",
    "plt.plot(predict_stock, color = 'green', label = 'Predicted Apple Stock Price')\n",
    "plt.title('Apple Stock Prediction')\n",
    "plt.xlabel('Time')\n",
    "plt.ylabel('Stock Price')\n",
    "plt.legend()"
   ]
  },
  {
   "cell_type": "code",
   "execution_count": null,
   "id": "51dee053",
   "metadata": {},
   "outputs": [],
   "source": []
  }
 ],
 "metadata": {
  "kernelspec": {
   "display_name": "Python 3 (ipykernel)",
   "language": "python",
   "name": "python3"
  },
  "language_info": {
   "codemirror_mode": {
    "name": "ipython",
    "version": 3
   },
   "file_extension": ".py",
   "mimetype": "text/x-python",
   "name": "python",
   "nbconvert_exporter": "python",
   "pygments_lexer": "ipython3",
   "version": "3.9.16"
  }
 },
 "nbformat": 4,
 "nbformat_minor": 5
}
